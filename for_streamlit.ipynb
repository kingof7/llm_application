{
 "cells": [
  {
   "cell_type": "markdown",
   "metadata": {},
   "source": []
  },
  {
   "cell_type": "code",
   "execution_count": 27,
   "metadata": {},
   "outputs": [
    {
     "name": "stdout",
     "output_type": "stream",
     "text": [
      "Requirement already satisfied: langchain_upstage in /Users/jhlee/.pyenv/versions/3.10.17/envs/streamlit/lib/python3.10/site-packages (0.6.0)\n",
      "Requirement already satisfied: langchain_community in /Users/jhlee/.pyenv/versions/3.10.17/envs/streamlit/lib/python3.10/site-packages (0.3.24)\n",
      "Requirement already satisfied: langchain_pinecone in /Users/jhlee/.pyenv/versions/3.10.17/envs/streamlit/lib/python3.10/site-packages (0.2.6)\n",
      "Requirement already satisfied: pinecone in /Users/jhlee/.pyenv/versions/3.10.17/envs/streamlit/lib/python3.10/site-packages (6.0.2)\n",
      "Requirement already satisfied: docx2txt in /Users/jhlee/.pyenv/versions/3.10.17/envs/streamlit/lib/python3.10/site-packages (0.9)\n",
      "Collecting langchainhub\n",
      "  Downloading langchainhub-0.1.21-py3-none-any.whl.metadata (659 bytes)\n",
      "Requirement already satisfied: langchain-core<0.4.0,>=0.3.29 in /Users/jhlee/.pyenv/versions/3.10.17/envs/streamlit/lib/python3.10/site-packages (from langchain_upstage) (0.3.63)\n",
      "Requirement already satisfied: langchain-openai<0.4,>=0.3 in /Users/jhlee/.pyenv/versions/3.10.17/envs/streamlit/lib/python3.10/site-packages (from langchain_upstage) (0.3.19)\n",
      "Requirement already satisfied: pypdf<5.0.0,>=4.2.0 in /Users/jhlee/.pyenv/versions/3.10.17/envs/streamlit/lib/python3.10/site-packages (from langchain_upstage) (4.3.1)\n",
      "Requirement already satisfied: requests<3.0.0,>=2.31.0 in /Users/jhlee/.pyenv/versions/3.10.17/envs/streamlit/lib/python3.10/site-packages (from langchain_upstage) (2.32.3)\n",
      "Requirement already satisfied: tokenizers<0.20.0,>=0.19.1 in /Users/jhlee/.pyenv/versions/3.10.17/envs/streamlit/lib/python3.10/site-packages (from langchain_upstage) (0.19.1)\n",
      "Requirement already satisfied: langsmith<0.4,>=0.1.126 in /Users/jhlee/.pyenv/versions/3.10.17/envs/streamlit/lib/python3.10/site-packages (from langchain-core<0.4.0,>=0.3.29->langchain_upstage) (0.3.44)\n",
      "Requirement already satisfied: tenacity!=8.4.0,<10.0.0,>=8.1.0 in /Users/jhlee/.pyenv/versions/3.10.17/envs/streamlit/lib/python3.10/site-packages (from langchain-core<0.4.0,>=0.3.29->langchain_upstage) (9.1.2)\n",
      "Requirement already satisfied: jsonpatch<2.0,>=1.33 in /Users/jhlee/.pyenv/versions/3.10.17/envs/streamlit/lib/python3.10/site-packages (from langchain-core<0.4.0,>=0.3.29->langchain_upstage) (1.33)\n",
      "Requirement already satisfied: PyYAML>=5.3 in /Users/jhlee/.pyenv/versions/3.10.17/envs/streamlit/lib/python3.10/site-packages (from langchain-core<0.4.0,>=0.3.29->langchain_upstage) (6.0.2)\n",
      "Requirement already satisfied: packaging<25,>=23.2 in /Users/jhlee/.pyenv/versions/3.10.17/envs/streamlit/lib/python3.10/site-packages (from langchain-core<0.4.0,>=0.3.29->langchain_upstage) (24.2)\n",
      "Requirement already satisfied: typing-extensions>=4.7 in /Users/jhlee/.pyenv/versions/3.10.17/envs/streamlit/lib/python3.10/site-packages (from langchain-core<0.4.0,>=0.3.29->langchain_upstage) (4.13.2)\n",
      "Requirement already satisfied: pydantic>=2.7.4 in /Users/jhlee/.pyenv/versions/3.10.17/envs/streamlit/lib/python3.10/site-packages (from langchain-core<0.4.0,>=0.3.29->langchain_upstage) (2.11.5)\n",
      "Requirement already satisfied: jsonpointer>=1.9 in /Users/jhlee/.pyenv/versions/3.10.17/envs/streamlit/lib/python3.10/site-packages (from jsonpatch<2.0,>=1.33->langchain-core<0.4.0,>=0.3.29->langchain_upstage) (3.0.0)\n",
      "Requirement already satisfied: openai<2.0.0,>=1.68.2 in /Users/jhlee/.pyenv/versions/3.10.17/envs/streamlit/lib/python3.10/site-packages (from langchain-openai<0.4,>=0.3->langchain_upstage) (1.83.0)\n",
      "Requirement already satisfied: tiktoken<1,>=0.7 in /Users/jhlee/.pyenv/versions/3.10.17/envs/streamlit/lib/python3.10/site-packages (from langchain-openai<0.4,>=0.3->langchain_upstage) (0.9.0)\n",
      "Requirement already satisfied: httpx<1,>=0.23.0 in /Users/jhlee/.pyenv/versions/3.10.17/envs/streamlit/lib/python3.10/site-packages (from langsmith<0.4,>=0.1.126->langchain-core<0.4.0,>=0.3.29->langchain_upstage) (0.28.1)\n",
      "Requirement already satisfied: orjson<4.0.0,>=3.9.14 in /Users/jhlee/.pyenv/versions/3.10.17/envs/streamlit/lib/python3.10/site-packages (from langsmith<0.4,>=0.1.126->langchain-core<0.4.0,>=0.3.29->langchain_upstage) (3.10.18)\n",
      "Requirement already satisfied: requests-toolbelt<2.0.0,>=1.0.0 in /Users/jhlee/.pyenv/versions/3.10.17/envs/streamlit/lib/python3.10/site-packages (from langsmith<0.4,>=0.1.126->langchain-core<0.4.0,>=0.3.29->langchain_upstage) (1.0.0)\n",
      "Requirement already satisfied: zstandard<0.24.0,>=0.23.0 in /Users/jhlee/.pyenv/versions/3.10.17/envs/streamlit/lib/python3.10/site-packages (from langsmith<0.4,>=0.1.126->langchain-core<0.4.0,>=0.3.29->langchain_upstage) (0.23.0)\n",
      "Requirement already satisfied: anyio in /Users/jhlee/.pyenv/versions/3.10.17/envs/streamlit/lib/python3.10/site-packages (from httpx<1,>=0.23.0->langsmith<0.4,>=0.1.126->langchain-core<0.4.0,>=0.3.29->langchain_upstage) (4.9.0)\n",
      "Requirement already satisfied: certifi in /Users/jhlee/.pyenv/versions/3.10.17/envs/streamlit/lib/python3.10/site-packages (from httpx<1,>=0.23.0->langsmith<0.4,>=0.1.126->langchain-core<0.4.0,>=0.3.29->langchain_upstage) (2025.4.26)\n",
      "Requirement already satisfied: httpcore==1.* in /Users/jhlee/.pyenv/versions/3.10.17/envs/streamlit/lib/python3.10/site-packages (from httpx<1,>=0.23.0->langsmith<0.4,>=0.1.126->langchain-core<0.4.0,>=0.3.29->langchain_upstage) (1.0.9)\n",
      "Requirement already satisfied: idna in /Users/jhlee/.pyenv/versions/3.10.17/envs/streamlit/lib/python3.10/site-packages (from httpx<1,>=0.23.0->langsmith<0.4,>=0.1.126->langchain-core<0.4.0,>=0.3.29->langchain_upstage) (3.10)\n",
      "Requirement already satisfied: h11>=0.16 in /Users/jhlee/.pyenv/versions/3.10.17/envs/streamlit/lib/python3.10/site-packages (from httpcore==1.*->httpx<1,>=0.23.0->langsmith<0.4,>=0.1.126->langchain-core<0.4.0,>=0.3.29->langchain_upstage) (0.16.0)\n",
      "Requirement already satisfied: distro<2,>=1.7.0 in /Users/jhlee/.pyenv/versions/3.10.17/envs/streamlit/lib/python3.10/site-packages (from openai<2.0.0,>=1.68.2->langchain-openai<0.4,>=0.3->langchain_upstage) (1.9.0)\n",
      "Requirement already satisfied: jiter<1,>=0.4.0 in /Users/jhlee/.pyenv/versions/3.10.17/envs/streamlit/lib/python3.10/site-packages (from openai<2.0.0,>=1.68.2->langchain-openai<0.4,>=0.3->langchain_upstage) (0.10.0)\n",
      "Requirement already satisfied: sniffio in /Users/jhlee/.pyenv/versions/3.10.17/envs/streamlit/lib/python3.10/site-packages (from openai<2.0.0,>=1.68.2->langchain-openai<0.4,>=0.3->langchain_upstage) (1.3.1)\n",
      "Requirement already satisfied: tqdm>4 in /Users/jhlee/.pyenv/versions/3.10.17/envs/streamlit/lib/python3.10/site-packages (from openai<2.0.0,>=1.68.2->langchain-openai<0.4,>=0.3->langchain_upstage) (4.67.1)\n",
      "Requirement already satisfied: exceptiongroup>=1.0.2 in /Users/jhlee/.pyenv/versions/3.10.17/envs/streamlit/lib/python3.10/site-packages (from anyio->httpx<1,>=0.23.0->langsmith<0.4,>=0.1.126->langchain-core<0.4.0,>=0.3.29->langchain_upstage) (1.3.0)\n",
      "Requirement already satisfied: annotated-types>=0.6.0 in /Users/jhlee/.pyenv/versions/3.10.17/envs/streamlit/lib/python3.10/site-packages (from pydantic>=2.7.4->langchain-core<0.4.0,>=0.3.29->langchain_upstage) (0.7.0)\n",
      "Requirement already satisfied: pydantic-core==2.33.2 in /Users/jhlee/.pyenv/versions/3.10.17/envs/streamlit/lib/python3.10/site-packages (from pydantic>=2.7.4->langchain-core<0.4.0,>=0.3.29->langchain_upstage) (2.33.2)\n",
      "Requirement already satisfied: typing-inspection>=0.4.0 in /Users/jhlee/.pyenv/versions/3.10.17/envs/streamlit/lib/python3.10/site-packages (from pydantic>=2.7.4->langchain-core<0.4.0,>=0.3.29->langchain_upstage) (0.4.1)\n",
      "Requirement already satisfied: charset-normalizer<4,>=2 in /Users/jhlee/.pyenv/versions/3.10.17/envs/streamlit/lib/python3.10/site-packages (from requests<3.0.0,>=2.31.0->langchain_upstage) (3.4.2)\n",
      "Requirement already satisfied: urllib3<3,>=1.21.1 in /Users/jhlee/.pyenv/versions/3.10.17/envs/streamlit/lib/python3.10/site-packages (from requests<3.0.0,>=2.31.0->langchain_upstage) (2.4.0)\n",
      "Requirement already satisfied: regex>=2022.1.18 in /Users/jhlee/.pyenv/versions/3.10.17/envs/streamlit/lib/python3.10/site-packages (from tiktoken<1,>=0.7->langchain-openai<0.4,>=0.3->langchain_upstage) (2024.11.6)\n",
      "Requirement already satisfied: huggingface-hub<1.0,>=0.16.4 in /Users/jhlee/.pyenv/versions/3.10.17/envs/streamlit/lib/python3.10/site-packages (from tokenizers<0.20.0,>=0.19.1->langchain_upstage) (0.32.3)\n",
      "Requirement already satisfied: filelock in /Users/jhlee/.pyenv/versions/3.10.17/envs/streamlit/lib/python3.10/site-packages (from huggingface-hub<1.0,>=0.16.4->tokenizers<0.20.0,>=0.19.1->langchain_upstage) (3.18.0)\n",
      "Requirement already satisfied: fsspec>=2023.5.0 in /Users/jhlee/.pyenv/versions/3.10.17/envs/streamlit/lib/python3.10/site-packages (from huggingface-hub<1.0,>=0.16.4->tokenizers<0.20.0,>=0.19.1->langchain_upstage) (2025.5.1)\n",
      "Requirement already satisfied: hf-xet<2.0.0,>=1.1.2 in /Users/jhlee/.pyenv/versions/3.10.17/envs/streamlit/lib/python3.10/site-packages (from huggingface-hub<1.0,>=0.16.4->tokenizers<0.20.0,>=0.19.1->langchain_upstage) (1.1.2)\n",
      "Requirement already satisfied: langchain<1.0.0,>=0.3.25 in /Users/jhlee/.pyenv/versions/3.10.17/envs/streamlit/lib/python3.10/site-packages (from langchain_community) (0.3.25)\n",
      "Requirement already satisfied: SQLAlchemy<3,>=1.4 in /Users/jhlee/.pyenv/versions/3.10.17/envs/streamlit/lib/python3.10/site-packages (from langchain_community) (2.0.41)\n",
      "Requirement already satisfied: aiohttp<4.0.0,>=3.8.3 in /Users/jhlee/.pyenv/versions/3.10.17/envs/streamlit/lib/python3.10/site-packages (from langchain_community) (3.10.11)\n",
      "Requirement already satisfied: dataclasses-json<0.7,>=0.5.7 in /Users/jhlee/.pyenv/versions/3.10.17/envs/streamlit/lib/python3.10/site-packages (from langchain_community) (0.6.7)\n",
      "Requirement already satisfied: pydantic-settings<3.0.0,>=2.4.0 in /Users/jhlee/.pyenv/versions/3.10.17/envs/streamlit/lib/python3.10/site-packages (from langchain_community) (2.9.1)\n",
      "Requirement already satisfied: httpx-sse<1.0.0,>=0.4.0 in /Users/jhlee/.pyenv/versions/3.10.17/envs/streamlit/lib/python3.10/site-packages (from langchain_community) (0.4.0)\n",
      "Requirement already satisfied: numpy>=1.26.2 in /Users/jhlee/.pyenv/versions/3.10.17/envs/streamlit/lib/python3.10/site-packages (from langchain_community) (2.2.6)\n",
      "Requirement already satisfied: aiohappyeyeballs>=2.3.0 in /Users/jhlee/.pyenv/versions/3.10.17/envs/streamlit/lib/python3.10/site-packages (from aiohttp<4.0.0,>=3.8.3->langchain_community) (2.6.1)\n",
      "Requirement already satisfied: aiosignal>=1.1.2 in /Users/jhlee/.pyenv/versions/3.10.17/envs/streamlit/lib/python3.10/site-packages (from aiohttp<4.0.0,>=3.8.3->langchain_community) (1.3.2)\n",
      "Requirement already satisfied: attrs>=17.3.0 in /Users/jhlee/.pyenv/versions/3.10.17/envs/streamlit/lib/python3.10/site-packages (from aiohttp<4.0.0,>=3.8.3->langchain_community) (25.3.0)\n",
      "Requirement already satisfied: frozenlist>=1.1.1 in /Users/jhlee/.pyenv/versions/3.10.17/envs/streamlit/lib/python3.10/site-packages (from aiohttp<4.0.0,>=3.8.3->langchain_community) (1.6.0)\n",
      "Requirement already satisfied: multidict<7.0,>=4.5 in /Users/jhlee/.pyenv/versions/3.10.17/envs/streamlit/lib/python3.10/site-packages (from aiohttp<4.0.0,>=3.8.3->langchain_community) (6.4.4)\n",
      "Requirement already satisfied: yarl<2.0,>=1.12.0 in /Users/jhlee/.pyenv/versions/3.10.17/envs/streamlit/lib/python3.10/site-packages (from aiohttp<4.0.0,>=3.8.3->langchain_community) (1.20.0)\n",
      "Requirement already satisfied: async-timeout<6.0,>=4.0 in /Users/jhlee/.pyenv/versions/3.10.17/envs/streamlit/lib/python3.10/site-packages (from aiohttp<4.0.0,>=3.8.3->langchain_community) (4.0.3)\n",
      "Requirement already satisfied: marshmallow<4.0.0,>=3.18.0 in /Users/jhlee/.pyenv/versions/3.10.17/envs/streamlit/lib/python3.10/site-packages (from dataclasses-json<0.7,>=0.5.7->langchain_community) (3.26.1)\n",
      "Requirement already satisfied: typing-inspect<1,>=0.4.0 in /Users/jhlee/.pyenv/versions/3.10.17/envs/streamlit/lib/python3.10/site-packages (from dataclasses-json<0.7,>=0.5.7->langchain_community) (0.9.0)\n",
      "Requirement already satisfied: langchain-text-splitters<1.0.0,>=0.3.8 in /Users/jhlee/.pyenv/versions/3.10.17/envs/streamlit/lib/python3.10/site-packages (from langchain<1.0.0,>=0.3.25->langchain_community) (0.3.8)\n",
      "Requirement already satisfied: python-dotenv>=0.21.0 in /Users/jhlee/.pyenv/versions/3.10.17/envs/streamlit/lib/python3.10/site-packages (from pydantic-settings<3.0.0,>=2.4.0->langchain_community) (1.1.0)\n",
      "Requirement already satisfied: mypy-extensions>=0.3.0 in /Users/jhlee/.pyenv/versions/3.10.17/envs/streamlit/lib/python3.10/site-packages (from typing-inspect<1,>=0.4.0->dataclasses-json<0.7,>=0.5.7->langchain_community) (1.1.0)\n",
      "Requirement already satisfied: propcache>=0.2.1 in /Users/jhlee/.pyenv/versions/3.10.17/envs/streamlit/lib/python3.10/site-packages (from yarl<2.0,>=1.12.0->aiohttp<4.0.0,>=3.8.3->langchain_community) (0.3.1)\n",
      "Requirement already satisfied: langchain-tests<1.0.0,>=0.3.7 in /Users/jhlee/.pyenv/versions/3.10.17/envs/streamlit/lib/python3.10/site-packages (from langchain_pinecone) (0.3.19)\n",
      "Requirement already satisfied: pinecone-plugin-interface<0.0.8,>=0.0.7 in /Users/jhlee/.pyenv/versions/3.10.17/envs/streamlit/lib/python3.10/site-packages (from pinecone) (0.0.7)\n",
      "Requirement already satisfied: python-dateutil>=2.5.3 in /Users/jhlee/.pyenv/versions/3.10.17/envs/streamlit/lib/python3.10/site-packages (from pinecone) (2.9.0.post0)\n",
      "Requirement already satisfied: pytest<9,>=7 in /Users/jhlee/.pyenv/versions/3.10.17/envs/streamlit/lib/python3.10/site-packages (from langchain-tests<1.0.0,>=0.3.7->langchain_pinecone) (8.4.0)\n",
      "Requirement already satisfied: pytest-asyncio<1,>=0.20 in /Users/jhlee/.pyenv/versions/3.10.17/envs/streamlit/lib/python3.10/site-packages (from langchain-tests<1.0.0,>=0.3.7->langchain_pinecone) (0.26.0)\n",
      "Requirement already satisfied: syrupy<5,>=4 in /Users/jhlee/.pyenv/versions/3.10.17/envs/streamlit/lib/python3.10/site-packages (from langchain-tests<1.0.0,>=0.3.7->langchain_pinecone) (4.9.1)\n",
      "Requirement already satisfied: pytest-socket<1,>=0.6.0 in /Users/jhlee/.pyenv/versions/3.10.17/envs/streamlit/lib/python3.10/site-packages (from langchain-tests<1.0.0,>=0.3.7->langchain_pinecone) (0.7.0)\n",
      "\u001b[33mWARNING: pinecone 6.0.2 does not provide the extra 'async'\u001b[0m\u001b[33m\n",
      "\u001b[0mRequirement already satisfied: iniconfig>=1 in /Users/jhlee/.pyenv/versions/3.10.17/envs/streamlit/lib/python3.10/site-packages (from pytest<9,>=7->langchain-tests<1.0.0,>=0.3.7->langchain_pinecone) (2.1.0)\n",
      "Requirement already satisfied: pluggy<2,>=1.5 in /Users/jhlee/.pyenv/versions/3.10.17/envs/streamlit/lib/python3.10/site-packages (from pytest<9,>=7->langchain-tests<1.0.0,>=0.3.7->langchain_pinecone) (1.6.0)\n",
      "Requirement already satisfied: pygments>=2.7.2 in /Users/jhlee/.pyenv/versions/3.10.17/envs/streamlit/lib/python3.10/site-packages (from pytest<9,>=7->langchain-tests<1.0.0,>=0.3.7->langchain_pinecone) (2.19.1)\n",
      "Requirement already satisfied: tomli>=1 in /Users/jhlee/.pyenv/versions/3.10.17/envs/streamlit/lib/python3.10/site-packages (from pytest<9,>=7->langchain-tests<1.0.0,>=0.3.7->langchain_pinecone) (2.2.1)\n",
      "Collecting types-requests<3.0.0.0,>=2.31.0.2 (from langchainhub)\n",
      "  Downloading types_requests-2.32.0.20250602-py3-none-any.whl.metadata (2.1 kB)\n",
      "Requirement already satisfied: six>=1.5 in /Users/jhlee/.pyenv/versions/3.10.17/envs/streamlit/lib/python3.10/site-packages (from python-dateutil>=2.5.3->pinecone) (1.17.0)\n",
      "Downloading langchainhub-0.1.21-py3-none-any.whl (5.2 kB)\n",
      "Downloading types_requests-2.32.0.20250602-py3-none-any.whl (20 kB)\n",
      "Installing collected packages: types-requests, langchainhub\n",
      "\u001b[2K   \u001b[90m━━━━━━━━━━━━━━━━━━━━━━━━━━━━━━━━━━━━━━━━\u001b[0m \u001b[32m2/2\u001b[0m [langchainhub]\n",
      "\u001b[1A\u001b[2KSuccessfully installed langchainhub-0.1.21 types-requests-2.32.0.20250602\n",
      "Note: you may need to restart the kernel to use updated packages.\n"
     ]
    }
   ],
   "source": [
    "%pip install langchain_upstage langchain_community langchain_pinecone pinecone docx2txt langchainhub"
   ]
  },
  {
   "cell_type": "code",
   "execution_count": null,
   "metadata": {},
   "outputs": [
    {
     "name": "stdout",
     "output_type": "stream",
     "text": [
      "index: 0, batch size: 100\n",
      "index: 100, batch size: 100\n",
      "index: 200, batch size: 100\n",
      "index: 300, batch size: 100\n"
     ]
    }
   ],
   "source": [
    "\n",
    "# embedding\n",
    "from langchain_upstage import UpstageEmbeddings\n",
    "from langchain_community.document_loaders import Docx2txtLoader\n",
    "from langchain.text_splitter import RecursiveCharacterTextSplitter\n",
    "from langchain_pinecone import PineconeVectorStore\n",
    "from dotenv import load_dotenv\n",
    "import os\n",
    "load_dotenv()\n",
    "\n",
    "pinecone_api_key = os.getenv(\"PINECONE_API_KEY\")\n",
    "upsatge_api_key = os.getenv(\"UPSTAGE_API_KEY\")\n",
    "\n",
    "embedding = UpstageEmbeddings(model=\"solar-embedding-1-large\")\n",
    "index_name = 'table-markdown-index'\n",
    "\n",
    "# Split documents into smaller chunks\n",
    "loader = Docx2txtLoader(\"./tax_with_markdown.docx\")\n",
    "text_splitter = RecursiveCharacterTextSplitter(chunk_size=1000, chunk_overlap=100)\n",
    "document_list = loader.load_and_split(text_splitter=text_splitter)\n",
    "chunked_documents = text_splitter.split_documents(document_list)\n",
    "\n",
    "# Initialize the PineconeVectorStore\n",
    "database = PineconeVectorStore.from_documents(\n",
    "    documents=[],  # Start with an empty list\n",
    "    embedding=embedding,\n",
    "    index_name=index_name\n",
    ")\n",
    "\n",
    "# Upload documents in batches\n",
    "batch_size = 100\n",
    "for i in range(0, len(chunked_documents), batch_size):\n",
    "    print(f'index: {i}, batch size: {batch_size}')\n",
    "    batch = chunked_documents[i:i + batch_size]\n",
    "    database.add_documents(batch)  # Add documents to the existing database\n",
    "\n",
    "query = \"연봉 9천만원 직장인의 소득세는 얼마인가요?\"\n",
    "retrieved_docs = database.similarity_search(query, k=3)\n",
    "\n",
    "from langchain_upstage import ChatUpstage\n",
    "\n",
    "llm = ChatUpstage()\n",
    "\n",
    "from langchain import hub\n",
    "\n",
    "prompt = hub.pull(\"rlm/rag-prompt\")\n",
    "\n",
    "retriever = database.as_retriever(search_kwargs={\"k\": 4})\n",
    "\n",
    "from langchain.chains import RetrievalQA\n",
    "\n",
    "qa_chain = RetrievalQA.from_chain_type(\n",
    "    llm=llm,\n",
    "    retriever=database.as_retriever(),\n",
    "    chain_type_kwargs={\"prompt\": prompt}\n",
    ")\n",
    "\n",
    "ai_message = qa_chain.invoke({\"query\": query})\n",
    "\n",
    "from langchain_core.output_parsers import StrOutputParser\n",
    "from langchain_core.prompts import ChatPromptTemplate\n",
    "\n",
    "dictionary = [\"사람을 나타내는 표현 -> 거주자\"]\n",
    "\n",
    "prompt = ChatPromptTemplate.from_messages(f\"\"\"\n",
    "    사용자의 질문을 보고, 우리의 사전을 참고해서 사용자의 질문을 변경해주세요.\n",
    "    만약 변경할 필요가 없다고 판단된다면, 사용자의 질문을 변경하지 마세요.\n",
    "    그런 경우에는 질문만 리턴해주세요.\n",
    "                                          \n",
    "    사전: {dictionary}\n",
    "    사용자의 질문: {query}\n",
    "\"\"\")\n",
    "\n",
    "dictionary_chain = prompt | llm | StrOutputParser()\n",
    "tax_chain = {\"query\": dictionary_chain} | qa_chain\n",
    "\n"
   ]
  },
  {
   "cell_type": "code",
   "execution_count": 9,
   "metadata": {},
   "outputs": [
    {
     "data": {
      "text/plain": [
       "336"
      ]
     },
     "execution_count": 9,
     "metadata": {},
     "output_type": "execute_result"
    }
   ],
   "source": [
    "len(chunked_documents)"
   ]
  },
  {
   "cell_type": "code",
   "execution_count": 10,
   "metadata": {},
   "outputs": [],
   "source": [
    "query = \"연봉 9천만원 직장인의 소득세는 얼마인가요?\"\n",
    "retrieved_docs = database.similarity_search(query, k=3)"
   ]
  },
  {
   "cell_type": "code",
   "execution_count": 11,
   "metadata": {},
   "outputs": [],
   "source": [
    "from langchain_upstage import ChatUpstage\n",
    "\n",
    "llm = ChatUpstage()"
   ]
  },
  {
   "cell_type": "code",
   "execution_count": 12,
   "metadata": {},
   "outputs": [
    {
     "name": "stderr",
     "output_type": "stream",
     "text": [
      "/Users/jhlee/.pyenv/versions/3.10.17/envs/streamlit/lib/python3.10/site-packages/langsmith/client.py:272: LangSmithMissingAPIKeyWarning: API key must be provided when using hosted LangSmith API\n",
      "  warnings.warn(\n"
     ]
    }
   ],
   "source": [
    "from langchain import hub\n",
    "\n",
    "prompt = hub.pull(\"rlm/rag-prompt\")"
   ]
  },
  {
   "cell_type": "code",
   "execution_count": 13,
   "metadata": {},
   "outputs": [],
   "source": [
    "retriever = database.as_retriever(search_kwargs={\"k\": 4})"
   ]
  },
  {
   "cell_type": "code",
   "execution_count": 14,
   "metadata": {},
   "outputs": [],
   "source": [
    "from langchain.chains import RetrievalQA\n",
    "\n",
    "qa_chain = RetrievalQA.from_chain_type(\n",
    "    llm=llm,\n",
    "    retriever=database.as_retriever(),\n",
    "    chain_type_kwargs={\"prompt\": prompt}\n",
    ")"
   ]
  },
  {
   "cell_type": "code",
   "execution_count": 15,
   "metadata": {},
   "outputs": [],
   "source": [
    "ai_message = qa_chain.invoke({\"query\": query})"
   ]
  },
  {
   "cell_type": "code",
   "execution_count": 16,
   "metadata": {},
   "outputs": [
    {
     "data": {
      "text/plain": [
       "{'query': '연봉 9천만원 직장인의 소득세는 얼마인가요?',\n",
       " 'result': '연봉 9천만원 직장인의 소득세는 1,574만원입니다. 이는 5,000만원 초과 8,800만원 이하 구간에 해당하며, 세율은 24%입니다. 따라서 (5,000만원을 초과하는 금액인) 4,000만원의 24%에 해당하는 금액과 624만원을 더한 금액이 소득세가 됩니다.'}"
      ]
     },
     "execution_count": 16,
     "metadata": {},
     "output_type": "execute_result"
    }
   ],
   "source": [
    "ai_message"
   ]
  },
  {
   "cell_type": "code",
   "execution_count": 24,
   "metadata": {},
   "outputs": [],
   "source": [
    "from langchain_core.output_parsers import StrOutputParser\n",
    "from langchain_core.prompts import ChatPromptTemplate\n",
    "\n",
    "dictionary = [\"사람을 나타내는 표현 -> 거주자\"]\n",
    "\n",
    "prompt = ChatPromptTemplate.from_messages(f\"\"\"\n",
    "    사용자의 질문을 보고, 우리의 사전을 참고해서 사용자의 질문을 변경해주세요.\n",
    "    만약 변경할 필요가 없다고 판단된다면, 사용자의 질문을 변경하지 마세요.\n",
    "    그런 경우에는 질문만 리턴해주세요.\n",
    "                                          \n",
    "    사전: {dictionary}\n",
    "    사용자의 질문: {query}\n",
    "\"\"\")\n",
    "\n",
    "dictionary_chain = prompt | llm | StrOutputParser()\n",
    "tax_chain = {\"query\": dictionary_chain} | qa_chain\n"
   ]
  },
  {
   "cell_type": "code",
   "execution_count": 25,
   "metadata": {},
   "outputs": [],
   "source": [
    "new_question = dictionary_chain.invoke({\"question\": query})"
   ]
  },
  {
   "cell_type": "code",
   "execution_count": 26,
   "metadata": {},
   "outputs": [
    {
     "data": {
      "text/plain": [
       "'사용자의 질문은 \"연봉 9천만원 직장인의 소득세는 얼마인가요?\"입니다. 이 질문에 대한 정확한 답변은 사용자의 다양한 개인 상황에 따라 달라질 수 있습니다. 소득세는 과세표준에 따라 계산되며, 과세표준은 연봉에서 각종 공제를 제외한 금액입니다. 따라서, 정확한 소득세를 알기 위해서는 연봉에서 각종 공제 항목(예: 근로소득공제, 인적공제, 연금보험료공제 등)을 차감한 후, 해당 과세표준에 맞는 세율을 적용해야 합니다.\\n\\n일반적으로 연봉 9천만원 정도의 직장인의 경우, 대략적인 소득세를 계산해보면 다음과 같습니다:\\n\\n1. 과세표준 계산: 연봉 9천만원에서 각종 공제를 차감한 금액\\n2. 세율 적용: 과세표준에 따른 세율을 적용\\n3. 세액 계산: 적용된 세율에 따라 소득세액을 계산\\n\\n그러나 이는 대략적인 계산이며, 실제 소득세는 사용자의 개인 상황에 따라 다를 수 있습니다. 정확한 소득세를 알고 싶다면, 국세청 홈페이지의 소득세 계산기를 사용하거나 세무사에게 상담을 받는 것이 좋습니다.'"
      ]
     },
     "execution_count": 26,
     "metadata": {},
     "output_type": "execute_result"
    }
   ],
   "source": [
    "new_question"
   ]
  },
  {
   "cell_type": "code",
   "execution_count": null,
   "metadata": {},
   "outputs": [],
   "source": []
  }
 ],
 "metadata": {
  "kernelspec": {
   "display_name": "streamlit",
   "language": "python",
   "name": "python3"
  },
  "language_info": {
   "codemirror_mode": {
    "name": "ipython",
    "version": 3
   },
   "file_extension": ".py",
   "mimetype": "text/x-python",
   "name": "python",
   "nbconvert_exporter": "python",
   "pygments_lexer": "ipython3",
   "version": "3.10.17"
  }
 },
 "nbformat": 4,
 "nbformat_minor": 2
}
