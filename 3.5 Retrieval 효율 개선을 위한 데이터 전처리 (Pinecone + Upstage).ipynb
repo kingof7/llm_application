{
 "cells": [
  {
   "cell_type": "markdown",
   "metadata": {},
   "source": [
    "# 1. 패키지 설치"
   ]
  },
  {
   "cell_type": "code",
   "execution_count": 1,
   "metadata": {},
   "outputs": [
    {
     "name": "stdout",
     "output_type": "stream",
     "text": [
      "Requirement already satisfied: python-dotenv in .\\.venv\\lib\\site-packages (1.1.0)\n",
      "Requirement already satisfied: langchain in .\\.venv\\lib\\site-packages (0.3.25)\n",
      "Requirement already satisfied: langchain-upstage in .\\.venv\\lib\\site-packages (0.6.0)\n",
      "Requirement already satisfied: langchain-community in .\\.venv\\lib\\site-packages (0.3.24)\n",
      "Requirement already satisfied: langchain-text-splitters in .\\.venv\\lib\\site-packages (0.3.8)\n",
      "Requirement already satisfied: docx2txt in .\\.venv\\lib\\site-packages (0.9)\n",
      "Requirement already satisfied: langchain-chroma in .\\.venv\\lib\\site-packages (0.2.4)\n",
      "Requirement already satisfied: langchain-core<1.0.0,>=0.3.58 in .\\.venv\\lib\\site-packages (from langchain) (0.3.63)\n",
      "Requirement already satisfied: langsmith<0.4,>=0.1.17 in .\\.venv\\lib\\site-packages (from langchain) (0.3.43)\n",
      "Requirement already satisfied: pydantic<3.0.0,>=2.7.4 in .\\.venv\\lib\\site-packages (from langchain) (2.11.5)\n",
      "Requirement already satisfied: SQLAlchemy<3,>=1.4 in .\\.venv\\lib\\site-packages (from langchain) (2.0.41)\n",
      "Requirement already satisfied: requests<3,>=2 in .\\.venv\\lib\\site-packages (from langchain) (2.32.3)\n",
      "Requirement already satisfied: PyYAML>=5.3 in .\\.venv\\lib\\site-packages (from langchain) (6.0.2)\n",
      "Requirement already satisfied: tenacity!=8.4.0,<10.0.0,>=8.1.0 in .\\.venv\\lib\\site-packages (from langchain-core<1.0.0,>=0.3.58->langchain) (9.1.2)\n",
      "Requirement already satisfied: jsonpatch<2.0,>=1.33 in .\\.venv\\lib\\site-packages (from langchain-core<1.0.0,>=0.3.58->langchain) (1.33)\n",
      "Requirement already satisfied: packaging<25,>=23.2 in .\\.venv\\lib\\site-packages (from langchain-core<1.0.0,>=0.3.58->langchain) (24.2)\n",
      "Requirement already satisfied: typing-extensions>=4.7 in .\\.venv\\lib\\site-packages (from langchain-core<1.0.0,>=0.3.58->langchain) (4.13.2)\n",
      "Requirement already satisfied: jsonpointer>=1.9 in .\\.venv\\lib\\site-packages (from jsonpatch<2.0,>=1.33->langchain-core<1.0.0,>=0.3.58->langchain) (3.0.0)\n",
      "Requirement already satisfied: httpx<1,>=0.23.0 in .\\.venv\\lib\\site-packages (from langsmith<0.4,>=0.1.17->langchain) (0.28.1)\n",
      "Requirement already satisfied: orjson<4.0.0,>=3.9.14 in .\\.venv\\lib\\site-packages (from langsmith<0.4,>=0.1.17->langchain) (3.10.18)\n",
      "Requirement already satisfied: requests-toolbelt<2.0.0,>=1.0.0 in .\\.venv\\lib\\site-packages (from langsmith<0.4,>=0.1.17->langchain) (1.0.0)\n",
      "Requirement already satisfied: zstandard<0.24.0,>=0.23.0 in .\\.venv\\lib\\site-packages (from langsmith<0.4,>=0.1.17->langchain) (0.23.0)\n",
      "Requirement already satisfied: anyio in .\\.venv\\lib\\site-packages (from httpx<1,>=0.23.0->langsmith<0.4,>=0.1.17->langchain) (4.9.0)\n",
      "Requirement already satisfied: certifi in .\\.venv\\lib\\site-packages (from httpx<1,>=0.23.0->langsmith<0.4,>=0.1.17->langchain) (2025.4.26)\n",
      "Requirement already satisfied: httpcore==1.* in .\\.venv\\lib\\site-packages (from httpx<1,>=0.23.0->langsmith<0.4,>=0.1.17->langchain) (1.0.9)\n",
      "Requirement already satisfied: idna in .\\.venv\\lib\\site-packages (from httpx<1,>=0.23.0->langsmith<0.4,>=0.1.17->langchain) (3.10)\n",
      "Requirement already satisfied: h11>=0.16 in .\\.venv\\lib\\site-packages (from httpcore==1.*->httpx<1,>=0.23.0->langsmith<0.4,>=0.1.17->langchain) (0.16.0)\n",
      "Requirement already satisfied: annotated-types>=0.6.0 in .\\.venv\\lib\\site-packages (from pydantic<3.0.0,>=2.7.4->langchain) (0.7.0)\n",
      "Requirement already satisfied: pydantic-core==2.33.2 in .\\.venv\\lib\\site-packages (from pydantic<3.0.0,>=2.7.4->langchain) (2.33.2)\n",
      "Requirement already satisfied: typing-inspection>=0.4.0 in .\\.venv\\lib\\site-packages (from pydantic<3.0.0,>=2.7.4->langchain) (0.4.1)\n",
      "Requirement already satisfied: charset-normalizer<4,>=2 in .\\.venv\\lib\\site-packages (from requests<3,>=2->langchain) (3.4.2)\n",
      "Requirement already satisfied: urllib3<3,>=1.21.1 in .\\.venv\\lib\\site-packages (from requests<3,>=2->langchain) (2.4.0)\n",
      "Requirement already satisfied: greenlet>=1 in .\\.venv\\lib\\site-packages (from SQLAlchemy<3,>=1.4->langchain) (3.2.2)\n",
      "Requirement already satisfied: langchain-openai<0.4,>=0.3 in .\\.venv\\lib\\site-packages (from langchain-upstage) (0.3.18)\n",
      "Requirement already satisfied: pypdf<5.0.0,>=4.2.0 in .\\.venv\\lib\\site-packages (from langchain-upstage) (4.3.1)\n",
      "Requirement already satisfied: tokenizers<0.20.0,>=0.19.1 in .\\.venv\\lib\\site-packages (from langchain-upstage) (0.19.1)\n",
      "Requirement already satisfied: openai<2.0.0,>=1.68.2 in .\\.venv\\lib\\site-packages (from langchain-openai<0.4,>=0.3->langchain-upstage) (1.82.0)\n",
      "Requirement already satisfied: tiktoken<1,>=0.7 in .\\.venv\\lib\\site-packages (from langchain-openai<0.4,>=0.3->langchain-upstage) (0.9.0)\n",
      "Requirement already satisfied: distro<2,>=1.7.0 in .\\.venv\\lib\\site-packages (from openai<2.0.0,>=1.68.2->langchain-openai<0.4,>=0.3->langchain-upstage) (1.9.0)\n",
      "Requirement already satisfied: jiter<1,>=0.4.0 in .\\.venv\\lib\\site-packages (from openai<2.0.0,>=1.68.2->langchain-openai<0.4,>=0.3->langchain-upstage) (0.10.0)\n",
      "Requirement already satisfied: sniffio in .\\.venv\\lib\\site-packages (from openai<2.0.0,>=1.68.2->langchain-openai<0.4,>=0.3->langchain-upstage) (1.3.1)\n",
      "Requirement already satisfied: tqdm>4 in .\\.venv\\lib\\site-packages (from openai<2.0.0,>=1.68.2->langchain-openai<0.4,>=0.3->langchain-upstage) (4.67.1)\n",
      "Requirement already satisfied: regex>=2022.1.18 in .\\.venv\\lib\\site-packages (from tiktoken<1,>=0.7->langchain-openai<0.4,>=0.3->langchain-upstage) (2024.11.6)\n",
      "Requirement already satisfied: huggingface-hub<1.0,>=0.16.4 in .\\.venv\\lib\\site-packages (from tokenizers<0.20.0,>=0.19.1->langchain-upstage) (0.32.3)\n",
      "Requirement already satisfied: filelock in .\\.venv\\lib\\site-packages (from huggingface-hub<1.0,>=0.16.4->tokenizers<0.20.0,>=0.19.1->langchain-upstage) (3.18.0)\n",
      "Requirement already satisfied: fsspec>=2023.5.0 in .\\.venv\\lib\\site-packages (from huggingface-hub<1.0,>=0.16.4->tokenizers<0.20.0,>=0.19.1->langchain-upstage) (2025.5.1)\n",
      "Requirement already satisfied: aiohttp<4.0.0,>=3.8.3 in .\\.venv\\lib\\site-packages (from langchain-community) (3.10.11)\n",
      "Requirement already satisfied: dataclasses-json<0.7,>=0.5.7 in .\\.venv\\lib\\site-packages (from langchain-community) (0.6.7)\n",
      "Requirement already satisfied: pydantic-settings<3.0.0,>=2.4.0 in .\\.venv\\lib\\site-packages (from langchain-community) (2.9.1)\n",
      "Requirement already satisfied: httpx-sse<1.0.0,>=0.4.0 in .\\.venv\\lib\\site-packages (from langchain-community) (0.4.0)\n",
      "Requirement already satisfied: numpy>=1.26.2 in .\\.venv\\lib\\site-packages (from langchain-community) (2.2.6)\n",
      "Requirement already satisfied: aiohappyeyeballs>=2.3.0 in .\\.venv\\lib\\site-packages (from aiohttp<4.0.0,>=3.8.3->langchain-community) (2.6.1)\n",
      "Requirement already satisfied: aiosignal>=1.1.2 in .\\.venv\\lib\\site-packages (from aiohttp<4.0.0,>=3.8.3->langchain-community) (1.3.2)\n",
      "Requirement already satisfied: attrs>=17.3.0 in .\\.venv\\lib\\site-packages (from aiohttp<4.0.0,>=3.8.3->langchain-community) (25.3.0)\n",
      "Requirement already satisfied: frozenlist>=1.1.1 in .\\.venv\\lib\\site-packages (from aiohttp<4.0.0,>=3.8.3->langchain-community) (1.6.0)\n",
      "Requirement already satisfied: multidict<7.0,>=4.5 in .\\.venv\\lib\\site-packages (from aiohttp<4.0.0,>=3.8.3->langchain-community) (6.4.4)\n",
      "Requirement already satisfied: yarl<2.0,>=1.12.0 in .\\.venv\\lib\\site-packages (from aiohttp<4.0.0,>=3.8.3->langchain-community) (1.20.0)\n",
      "Requirement already satisfied: marshmallow<4.0.0,>=3.18.0 in .\\.venv\\lib\\site-packages (from dataclasses-json<0.7,>=0.5.7->langchain-community) (3.26.1)\n",
      "Requirement already satisfied: typing-inspect<1,>=0.4.0 in .\\.venv\\lib\\site-packages (from dataclasses-json<0.7,>=0.5.7->langchain-community) (0.9.0)\n",
      "Requirement already satisfied: mypy-extensions>=0.3.0 in .\\.venv\\lib\\site-packages (from typing-inspect<1,>=0.4.0->dataclasses-json<0.7,>=0.5.7->langchain-community) (1.1.0)\n",
      "Requirement already satisfied: propcache>=0.2.1 in .\\.venv\\lib\\site-packages (from yarl<2.0,>=1.12.0->aiohttp<4.0.0,>=3.8.3->langchain-community) (0.3.1)\n",
      "Requirement already satisfied: chromadb>=1.0.9 in .\\.venv\\lib\\site-packages (from langchain-chroma) (1.0.11)\n",
      "Requirement already satisfied: build>=1.0.3 in .\\.venv\\lib\\site-packages (from chromadb>=1.0.9->langchain-chroma) (1.2.2.post1)\n",
      "Requirement already satisfied: fastapi==0.115.9 in .\\.venv\\lib\\site-packages (from chromadb>=1.0.9->langchain-chroma) (0.115.9)\n",
      "Requirement already satisfied: uvicorn>=0.18.3 in .\\.venv\\lib\\site-packages (from uvicorn[standard]>=0.18.3->chromadb>=1.0.9->langchain-chroma) (0.34.2)\n",
      "Requirement already satisfied: posthog>=2.4.0 in .\\.venv\\lib\\site-packages (from chromadb>=1.0.9->langchain-chroma) (4.2.0)\n",
      "Requirement already satisfied: onnxruntime>=1.14.1 in .\\.venv\\lib\\site-packages (from chromadb>=1.0.9->langchain-chroma) (1.22.0)\n",
      "Requirement already satisfied: opentelemetry-api>=1.2.0 in .\\.venv\\lib\\site-packages (from chromadb>=1.0.9->langchain-chroma) (1.33.1)\n",
      "Requirement already satisfied: opentelemetry-exporter-otlp-proto-grpc>=1.2.0 in .\\.venv\\lib\\site-packages (from chromadb>=1.0.9->langchain-chroma) (1.33.1)\n",
      "Requirement already satisfied: opentelemetry-instrumentation-fastapi>=0.41b0 in .\\.venv\\lib\\site-packages (from chromadb>=1.0.9->langchain-chroma) (0.54b1)\n",
      "Requirement already satisfied: opentelemetry-sdk>=1.2.0 in .\\.venv\\lib\\site-packages (from chromadb>=1.0.9->langchain-chroma) (1.33.1)\n",
      "Requirement already satisfied: pypika>=0.48.9 in .\\.venv\\lib\\site-packages (from chromadb>=1.0.9->langchain-chroma) (0.48.9)\n",
      "Requirement already satisfied: overrides>=7.3.1 in .\\.venv\\lib\\site-packages (from chromadb>=1.0.9->langchain-chroma) (7.7.0)\n",
      "Requirement already satisfied: importlib-resources in .\\.venv\\lib\\site-packages (from chromadb>=1.0.9->langchain-chroma) (6.5.2)\n",
      "Requirement already satisfied: grpcio>=1.58.0 in .\\.venv\\lib\\site-packages (from chromadb>=1.0.9->langchain-chroma) (1.71.0)\n",
      "Requirement already satisfied: bcrypt>=4.0.1 in .\\.venv\\lib\\site-packages (from chromadb>=1.0.9->langchain-chroma) (4.3.0)\n",
      "Requirement already satisfied: typer>=0.9.0 in .\\.venv\\lib\\site-packages (from chromadb>=1.0.9->langchain-chroma) (0.16.0)\n",
      "Requirement already satisfied: kubernetes>=28.1.0 in .\\.venv\\lib\\site-packages (from chromadb>=1.0.9->langchain-chroma) (32.0.1)\n",
      "Requirement already satisfied: mmh3>=4.0.1 in .\\.venv\\lib\\site-packages (from chromadb>=1.0.9->langchain-chroma) (5.1.0)\n",
      "Requirement already satisfied: rich>=10.11.0 in .\\.venv\\lib\\site-packages (from chromadb>=1.0.9->langchain-chroma) (14.0.0)\n",
      "Requirement already satisfied: jsonschema>=4.19.0 in .\\.venv\\lib\\site-packages (from chromadb>=1.0.9->langchain-chroma) (4.24.0)\n",
      "Requirement already satisfied: starlette<0.46.0,>=0.40.0 in .\\.venv\\lib\\site-packages (from fastapi==0.115.9->chromadb>=1.0.9->langchain-chroma) (0.45.3)\n",
      "Requirement already satisfied: pyproject_hooks in .\\.venv\\lib\\site-packages (from build>=1.0.3->chromadb>=1.0.9->langchain-chroma) (1.2.0)\n",
      "Requirement already satisfied: colorama in .\\.venv\\lib\\site-packages (from build>=1.0.3->chromadb>=1.0.9->langchain-chroma) (0.4.6)\n",
      "Requirement already satisfied: jsonschema-specifications>=2023.03.6 in .\\.venv\\lib\\site-packages (from jsonschema>=4.19.0->chromadb>=1.0.9->langchain-chroma) (2025.4.1)\n",
      "Requirement already satisfied: referencing>=0.28.4 in .\\.venv\\lib\\site-packages (from jsonschema>=4.19.0->chromadb>=1.0.9->langchain-chroma) (0.36.2)\n",
      "Requirement already satisfied: rpds-py>=0.7.1 in .\\.venv\\lib\\site-packages (from jsonschema>=4.19.0->chromadb>=1.0.9->langchain-chroma) (0.25.1)\n",
      "Requirement already satisfied: six>=1.9.0 in .\\.venv\\lib\\site-packages (from kubernetes>=28.1.0->chromadb>=1.0.9->langchain-chroma) (1.17.0)\n",
      "Requirement already satisfied: python-dateutil>=2.5.3 in .\\.venv\\lib\\site-packages (from kubernetes>=28.1.0->chromadb>=1.0.9->langchain-chroma) (2.9.0.post0)\n",
      "Requirement already satisfied: google-auth>=1.0.1 in .\\.venv\\lib\\site-packages (from kubernetes>=28.1.0->chromadb>=1.0.9->langchain-chroma) (2.40.2)\n",
      "Requirement already satisfied: websocket-client!=0.40.0,!=0.41.*,!=0.42.*,>=0.32.0 in .\\.venv\\lib\\site-packages (from kubernetes>=28.1.0->chromadb>=1.0.9->langchain-chroma) (1.8.0)\n",
      "Requirement already satisfied: requests-oauthlib in .\\.venv\\lib\\site-packages (from kubernetes>=28.1.0->chromadb>=1.0.9->langchain-chroma) (2.0.0)\n",
      "Requirement already satisfied: oauthlib>=3.2.2 in .\\.venv\\lib\\site-packages (from kubernetes>=28.1.0->chromadb>=1.0.9->langchain-chroma) (3.2.2)\n",
      "Requirement already satisfied: durationpy>=0.7 in .\\.venv\\lib\\site-packages (from kubernetes>=28.1.0->chromadb>=1.0.9->langchain-chroma) (0.10)\n",
      "Requirement already satisfied: cachetools<6.0,>=2.0.0 in .\\.venv\\lib\\site-packages (from google-auth>=1.0.1->kubernetes>=28.1.0->chromadb>=1.0.9->langchain-chroma) (5.5.2)\n",
      "Requirement already satisfied: pyasn1-modules>=0.2.1 in .\\.venv\\lib\\site-packages (from google-auth>=1.0.1->kubernetes>=28.1.0->chromadb>=1.0.9->langchain-chroma) (0.4.2)\n",
      "Requirement already satisfied: rsa<5,>=3.1.4 in .\\.venv\\lib\\site-packages (from google-auth>=1.0.1->kubernetes>=28.1.0->chromadb>=1.0.9->langchain-chroma) (4.9.1)\n",
      "Requirement already satisfied: pyasn1>=0.1.3 in .\\.venv\\lib\\site-packages (from rsa<5,>=3.1.4->google-auth>=1.0.1->kubernetes>=28.1.0->chromadb>=1.0.9->langchain-chroma) (0.6.1)\n",
      "Requirement already satisfied: coloredlogs in .\\.venv\\lib\\site-packages (from onnxruntime>=1.14.1->chromadb>=1.0.9->langchain-chroma) (15.0.1)\n",
      "Requirement already satisfied: flatbuffers in .\\.venv\\lib\\site-packages (from onnxruntime>=1.14.1->chromadb>=1.0.9->langchain-chroma) (25.2.10)\n",
      "Requirement already satisfied: protobuf in .\\.venv\\lib\\site-packages (from onnxruntime>=1.14.1->chromadb>=1.0.9->langchain-chroma) (5.29.5)\n",
      "Requirement already satisfied: sympy in .\\.venv\\lib\\site-packages (from onnxruntime>=1.14.1->chromadb>=1.0.9->langchain-chroma) (1.14.0)\n",
      "Requirement already satisfied: deprecated>=1.2.6 in .\\.venv\\lib\\site-packages (from opentelemetry-api>=1.2.0->chromadb>=1.0.9->langchain-chroma) (1.2.18)\n",
      "Requirement already satisfied: importlib-metadata<8.7.0,>=6.0 in .\\.venv\\lib\\site-packages (from opentelemetry-api>=1.2.0->chromadb>=1.0.9->langchain-chroma) (8.6.1)\n",
      "Requirement already satisfied: zipp>=3.20 in .\\.venv\\lib\\site-packages (from importlib-metadata<8.7.0,>=6.0->opentelemetry-api>=1.2.0->chromadb>=1.0.9->langchain-chroma) (3.22.0)\n",
      "Requirement already satisfied: wrapt<2,>=1.10 in .\\.venv\\lib\\site-packages (from deprecated>=1.2.6->opentelemetry-api>=1.2.0->chromadb>=1.0.9->langchain-chroma) (1.17.2)\n",
      "Requirement already satisfied: googleapis-common-protos~=1.52 in .\\.venv\\lib\\site-packages (from opentelemetry-exporter-otlp-proto-grpc>=1.2.0->chromadb>=1.0.9->langchain-chroma) (1.70.0)\n",
      "Requirement already satisfied: opentelemetry-exporter-otlp-proto-common==1.33.1 in .\\.venv\\lib\\site-packages (from opentelemetry-exporter-otlp-proto-grpc>=1.2.0->chromadb>=1.0.9->langchain-chroma) (1.33.1)\n",
      "Requirement already satisfied: opentelemetry-proto==1.33.1 in .\\.venv\\lib\\site-packages (from opentelemetry-exporter-otlp-proto-grpc>=1.2.0->chromadb>=1.0.9->langchain-chroma) (1.33.1)\n",
      "Requirement already satisfied: opentelemetry-semantic-conventions==0.54b1 in .\\.venv\\lib\\site-packages (from opentelemetry-sdk>=1.2.0->chromadb>=1.0.9->langchain-chroma) (0.54b1)\n",
      "Requirement already satisfied: opentelemetry-instrumentation-asgi==0.54b1 in .\\.venv\\lib\\site-packages (from opentelemetry-instrumentation-fastapi>=0.41b0->chromadb>=1.0.9->langchain-chroma) (0.54b1)\n",
      "Requirement already satisfied: opentelemetry-instrumentation==0.54b1 in .\\.venv\\lib\\site-packages (from opentelemetry-instrumentation-fastapi>=0.41b0->chromadb>=1.0.9->langchain-chroma) (0.54b1)\n",
      "Requirement already satisfied: opentelemetry-util-http==0.54b1 in .\\.venv\\lib\\site-packages (from opentelemetry-instrumentation-fastapi>=0.41b0->chromadb>=1.0.9->langchain-chroma) (0.54b1)\n",
      "Requirement already satisfied: asgiref~=3.0 in .\\.venv\\lib\\site-packages (from opentelemetry-instrumentation-asgi==0.54b1->opentelemetry-instrumentation-fastapi>=0.41b0->chromadb>=1.0.9->langchain-chroma) (3.8.1)\n",
      "Requirement already satisfied: backoff>=1.10.0 in .\\.venv\\lib\\site-packages (from posthog>=2.4.0->chromadb>=1.0.9->langchain-chroma) (2.2.1)\n",
      "Requirement already satisfied: markdown-it-py>=2.2.0 in .\\.venv\\lib\\site-packages (from rich>=10.11.0->chromadb>=1.0.9->langchain-chroma) (3.0.0)\n",
      "Requirement already satisfied: pygments<3.0.0,>=2.13.0 in .\\.venv\\lib\\site-packages (from rich>=10.11.0->chromadb>=1.0.9->langchain-chroma) (2.19.1)\n",
      "Requirement already satisfied: mdurl~=0.1 in .\\.venv\\lib\\site-packages (from markdown-it-py>=2.2.0->rich>=10.11.0->chromadb>=1.0.9->langchain-chroma) (0.1.2)\n",
      "Requirement already satisfied: click>=8.0.0 in .\\.venv\\lib\\site-packages (from typer>=0.9.0->chromadb>=1.0.9->langchain-chroma) (8.2.1)\n",
      "Requirement already satisfied: shellingham>=1.3.0 in .\\.venv\\lib\\site-packages (from typer>=0.9.0->chromadb>=1.0.9->langchain-chroma) (1.5.4)\n",
      "Requirement already satisfied: httptools>=0.6.3 in .\\.venv\\lib\\site-packages (from uvicorn[standard]>=0.18.3->chromadb>=1.0.9->langchain-chroma) (0.6.4)\n",
      "Requirement already satisfied: watchfiles>=0.13 in .\\.venv\\lib\\site-packages (from uvicorn[standard]>=0.18.3->chromadb>=1.0.9->langchain-chroma) (1.0.5)\n",
      "Requirement already satisfied: websockets>=10.4 in .\\.venv\\lib\\site-packages (from uvicorn[standard]>=0.18.3->chromadb>=1.0.9->langchain-chroma) (15.0.1)\n",
      "Requirement already satisfied: humanfriendly>=9.1 in .\\.venv\\lib\\site-packages (from coloredlogs->onnxruntime>=1.14.1->chromadb>=1.0.9->langchain-chroma) (10.0)\n",
      "Requirement already satisfied: pyreadline3 in .\\.venv\\lib\\site-packages (from humanfriendly>=9.1->coloredlogs->onnxruntime>=1.14.1->chromadb>=1.0.9->langchain-chroma) (3.5.4)\n",
      "Requirement already satisfied: mpmath<1.4,>=1.1.0 in .\\.venv\\lib\\site-packages (from sympy->onnxruntime>=1.14.1->chromadb>=1.0.9->langchain-chroma) (1.3.0)\n",
      "Note: you may need to restart the kernel to use updated packages.\n"
     ]
    }
   ],
   "source": [
    "%pip install python-dotenv langchain langchain-upstage langchain-community langchain-text-splitters docx2txt langchain-chroma"
   ]
  },
  {
   "cell_type": "markdown",
   "metadata": {},
   "source": [
    "# 2. Knowledge Base 구성을 위한 데이터 생성\n",
    "\n",
    "- [RecursiveCharacterTextSplitter](https://python.langchain.com/v0.2/docs/how_to/recursive_text_splitter/)를 활용한 데이터 chunking\n",
    "    - split 된 데이터 chunk를 Large Language Model(LLM)에게 전달하면 토큰 절약 가능\n",
    "    - 비용 감소와 답변 생성시간 감소의 효과\n",
    "    - LangChain에서 다양한 [TextSplitter](https://python.langchain.com/v0.2/docs/how_to/#text-splitters)들을 제공\n",
    "- `chunk_size` 는 split 된 chunk의 최대 크기\n",
    "- `chunk_overlap`은 앞 뒤로 나뉘어진 chunk들이 얼마나 겹쳐도 되는지 지정"
   ]
  },
  {
   "cell_type": "code",
   "execution_count": 92,
   "metadata": {},
   "outputs": [],
   "source": [
    "from langchain_community.document_loaders import Docx2txtLoader\n",
    "from langchain_text_splitters import RecursiveCharacterTextSplitter\n",
    "\n",
    "text_splitter = RecursiveCharacterTextSplitter(\n",
    "    chunk_size=1500,\n",
    "    chunk_overlap=200,\n",
    ")\n",
    "\n",
    "loader = Docx2txtLoader('./tax_with_markdown.docx')\n",
    "document_list = loader.load_and_split(text_splitter=text_splitter)"
   ]
  },
  {
   "cell_type": "code",
   "execution_count": 93,
   "metadata": {},
   "outputs": [],
   "source": [
    "from dotenv import load_dotenv\n",
    "from langchain_upstage import UpstageEmbeddings\n",
    "\n",
    "# 환경변수를 불러옴\n",
    "load_dotenv()\n",
    "\n",
    "# OpenAI에서 제공하는 Embedding Model을 활용해서 `chunk`를 vector화\n",
    "embedding = UpstageEmbeddings(model=\"solar-embedding-1-large\")"
   ]
  },
  {
   "cell_type": "code",
   "execution_count": 3,
   "metadata": {},
   "outputs": [
    {
     "name": "stderr",
     "output_type": "stream",
     "text": [
      "d:\\inflearn-rag-notebook-main\\.venv\\Lib\\site-packages\\tqdm\\auto.py:21: TqdmWarning: IProgress not found. Please update jupyter and ipywidgets. See https://ipywidgets.readthedocs.io/en/stable/user_install.html\n",
      "  from .autonotebook import tqdm as notebook_tqdm\n"
     ]
    },
    {
     "name": "stdout",
     "output_type": "stream",
     "text": [
      "Chunked documents length: 451\n",
      "index: 0, batch size: 100\n",
      "index: 100, batch size: 100\n",
      "index: 200, batch size: 100\n",
      "index: 300, batch size: 100\n",
      "index: 400, batch size: 100\n"
     ]
    }
   ],
   "source": [
    "from langchain_pinecone import PineconeVectorStore\n",
    "\n",
    "# 데이터를 처음 저장할 때\n",
    "index_name = 'table-markdown-index'\n",
    "\n",
    "# Split documents into smaller chunks\n",
    "text_splitter = RecursiveCharacterTextSplitter(chunk_size=1000, chunk_overlap=100)\n",
    "chunked_documents = text_splitter.split_documents(document_list)\n",
    "print(f\"Chunked documents length: {len(chunked_documents)}\")\n",
    "\n",
    "# Initialize the PineconeVectorStore\n",
    "database = PineconeVectorStore.from_documents(\n",
    "    documents=[],  # Start with an empty list\n",
    "    embedding=embedding,\n",
    "    index_name=index_name\n",
    ")\n",
    "\n",
    "# Upload documents in batches\n",
    "batch_size = 100\n",
    "for i in range(0, len(chunked_documents), batch_size):\n",
    "    print(f'index: {i}, batch size: {batch_size}')\n",
    "    batch = chunked_documents[i:i + batch_size]\n",
    "    database.add_documents(batch)  # Add documents to the existing database"
   ]
  },
  {
   "cell_type": "markdown",
   "metadata": {},
   "source": [
    "# 3. 답변 생성을 위한 Retrieval\n",
    "\n",
    "- `Chroma`에 저장한 데이터를 유사도 검색(`similarity_search()`)를 활용해서 가져옴"
   ]
  },
  {
   "cell_type": "code",
   "execution_count": 110,
   "metadata": {},
   "outputs": [],
   "source": [
    "query = '연봉 5천만원인 직장인의 종합소득세는 얼마인가요?'\n",
    "\n",
    "# `k` 값을 조절해서 얼마나 많은 데이터를 불러올지 결정\n",
    "retrieved_docs = database.similarity_search(query, k=3)"
   ]
  },
  {
   "cell_type": "code",
   "execution_count": 111,
   "metadata": {},
   "outputs": [
    {
     "data": {
      "text/plain": [
       "[Document(id='d4d0cfde-cd96-4458-b3cf-901c5d62dbf4', metadata={'source': './tax_with_markdown.docx'}, page_content='제55조(세율) ①거주자의 종합소득에 대한 소득세는 해당 연도의 종합소득과세표준에 다음의 세율을 적용하여 계산한 금액(이하 “종합소득산출세액”이라 한다)을 그 세액으로 한다. <개정 2014. 1. 1., 2016. 12. 20., 2017. 12. 19., 2020. 12. 29., 2022. 12. 31.>\\n\\n| 종합소득 과세표준          | 세율                                         |\\n\\n|-------------------|--------------------------------------------|\\n\\n| 1,400만원 이하     | 과세표준의 6퍼센트                             |\\n\\n| 1,400만원 초과     5,000만원 이하     | 84만원 + (1,400만원을 초과하는 금액의 15퍼센트)  |\\n\\n| 5,000만원 초과   8,800만원 이하     | 624만원 + (5,000만원을 초과하는 금액의 24퍼센트) |\\n\\n| 8,800만원 초과 1억5천만원 이하    | 3,706만원 + (8,800만원을 초과하는 금액의 35퍼센트)|\\n\\n| 1억5천만원 초과 3억원 이하         | 3,706만원 + (1억5천만원을 초과하는 금액의 38퍼센트)|\\n\\n| 3억원 초과    5억원 이하         | 9,406만원 + (3억원을 초과하는 금액의 38퍼센트)   |\\n\\n| 5억원 초과      10억원 이하        | 1억 7,406만원 + (5억원을 초과하는 금액의 42퍼센트)|\\n\\n| 10억원 초과        | 3억 8,406만원 + (10억원을 초과하는 금액의 45퍼센트)|\\n\\n\\n\\n\\n\\n② 거주자의 퇴직소득에 대한 소득세는 다음 각 호의 순서에 따라 계산한 금액(이하 “퇴직소득 산출세액”이라 한다)으로 한다.<개정 2013. 1. 1., 2014. 12. 23.>\\n\\n1. 해당 과세기간의 퇴직소득과세표준에 제1항의 세율을 적용하여 계산한 금액'),\n",
       " Document(id='cfc766df-0c1c-4dbe-8034-613e33b504f8', metadata={'source': './tax_with_markdown.docx'}, page_content='⑧ 재해손실세액공제에 관하여 필요한 사항은 대통령령으로 정한다.\\n\\n[전문개정 2009. 12. 31.]\\n\\n[시행일: 2025. 1. 1.]  제58조제2항\\n\\n\\n\\n제59조(근로소득세액공제) ①근로소득이 있는 거주자에 대해서는 그 근로소득에 대한 종합소득산출세액에서 다음의 금액을 공제한다. <개정 2014. 1. 1., 2015. 5. 13.>\\n\\n\\n\\n② 제1항에도 불구하고 공제세액이 다음 각 호의 구분에 따른 금액을 초과하는 경우에 그 초과하는 금액은 없는 것으로 한다.<신설 2014. 1. 1., 2015. 5. 13., 2022. 12. 31.>\\n\\n1. 총급여액이 3천 300만원 이하인 경우: 74만원\\n\\n2. 총급여액이 3천 300만원 초과 7천만원 이하인 경우: 74만원 - [(총급여액 - 3천 300만원) × 8/1000]. 다만, 위 금액이 66만원보다 적은 경우에는 66만원으로 한다.\\n\\n3. 총급여액이 7천만원 초과 1억2천만원 이하인 경우: 66만원 - [(총급여액 - 7천만원) × 1/2]. 다만, 위 금액이 50만원보다 적은 경우에는 50만원으로 한다.\\n\\n4. 총급여액이 1억2천만원을 초과하는 경우: 50만원 - [(총급여액 - 1억2천만원) × 1/2]. 다만, 위 금액이 20만원보다 적은 경우에는 20만원으로 한다.\\n\\n③ 일용근로자의 근로소득에 대해서 제134조제3항에 따른 원천징수를 하는 경우에는 해당 근로소득에 대한 산출세액의 100분의 55에 해당하는 금액을 그 산출세액에서 공제한다.<개정 2014. 1. 1.>\\n\\n[전문개정 2012. 1. 1.]'),\n",
       " Document(id='4f394183-4234-476a-abcd-b219238b2a31', metadata={'source': './tax_with_markdown.docx'}, page_content='1. 다음 각 목의 세액을 더한 금액\\n\\n가. 이자소득등의 금액 중 종합과세기준금액을 초과하는 금액과 이자소득등을 제외한 다른 종합소득금액을 더한 금액에 대한 산출세액\\n\\n나. 종합과세기준금액에 제129조제1항제1호라목의 세율을 적용하여 계산한 세액\\n\\n2. 다음 각 목의 세액을 더한 금액\\n\\n가. 이자소득등에 대하여 제129조제1항제1호 및 제2호의 세율을 적용하여 계산한 세액. 다만, 다음의 어느 하나에 해당하는 소득에 대해서는 그 구분에 따른 세율을 적용한다.\\n\\n\\u3000\\u3000\\u30001) 삭제 <2018.12.31>\\n\\n\\u3000\\u3000\\u30002) 제127조에 따라 원천징수되지 아니하는 이자소득등 중 제16조제1항제11호의 소득: 제129조제1항제1호나목의 세율\\n\\n\\u3000\\u3000\\u30003) 제127조에 따라 원천징수되지 아니하는 이자소득등 중 제16조제1항제11호의 소득을 제외한 이자소득등: 제129조제1항제1호라목의 세율\\n\\n나. 이자소득등을 제외한 다른 종합소득금액에 대한 산출세액. 다만, 그 세액이 제17조제1항제8호에 따른 배당소득에 대하여 제129조제1항제1호라목의 세율을 적용하여 계산한 세액과 이자소득등 및 제17조제1항제8호에 따른 배당소득을 제외한 다른 종합소득금액에 대한 산출세액을 합산한 금액(이하 이 목에서 “종합소득 비교세액”이라 한다)에 미달하는 경우 종합소득 비교세액으로 한다.\\n\\n[전문개정 2009. 12. 31.]\\n\\n\\n\\n제63조(직장공제회 초과반환금에 대한 세액 계산의 특례) ①제16조제1항제10호에 따른 직장공제회 초과반환금(이하 이 조에서 “직장공제회 초과반환금”이라 한다)에 대해서는 그 금액에서 다음 각 호의 금액을 순서대로 공제한 금액을 납입연수(1년 미만인 경우에는 1년으로 한다. 이하 같다)로 나눈 금액에 기본세율을 적용하여 계산한 세액에 납입연수를 곱한 금액을 그 산출세액으로 한다. <개정 2010. 12. 27., 2014. 12. 23.>\\n\\n1. 직장공제회 초과반환금의 100분의 40에 해당하는 금액\\n\\n2. 납입연수에 따라 정한 다음의 금액')]"
      ]
     },
     "execution_count": 111,
     "metadata": {},
     "output_type": "execute_result"
    }
   ],
   "source": [
    "retrieved_docs"
   ]
  },
  {
   "cell_type": "markdown",
   "metadata": {},
   "source": [
    "# 4. Augmentation을 위한 Prompt 활용\n",
    "\n",
    "- Retrieval된 데이터는 LangChain에서 제공하는 프롬프트(`\"rlm/rag-prompt\"`) 사용"
   ]
  },
  {
   "cell_type": "code",
   "execution_count": 112,
   "metadata": {},
   "outputs": [],
   "source": [
    "from langchain_upstage import ChatUpstage\n",
    "\n",
    "llm = ChatUpstage()"
   ]
  },
  {
   "cell_type": "code",
   "execution_count": 113,
   "metadata": {},
   "outputs": [
    {
     "name": "stderr",
     "output_type": "stream",
     "text": [
      "d:\\inflearn-rag-notebook-main\\.venv\\Lib\\site-packages\\langsmith\\client.py:272: LangSmithMissingAPIKeyWarning: API key must be provided when using hosted LangSmith API\n",
      "  warnings.warn(\n"
     ]
    }
   ],
   "source": [
    "from langchain import hub\n",
    "\n",
    "prompt = hub.pull(\"rlm/rag-prompt\")"
   ]
  },
  {
   "cell_type": "code",
   "execution_count": 114,
   "metadata": {},
   "outputs": [
    {
     "data": {
      "text/plain": [
       "[Document(id='d4d0cfde-cd96-4458-b3cf-901c5d62dbf4', metadata={'source': './tax_with_markdown.docx'}, page_content='제55조(세율) ①거주자의 종합소득에 대한 소득세는 해당 연도의 종합소득과세표준에 다음의 세율을 적용하여 계산한 금액(이하 “종합소득산출세액”이라 한다)을 그 세액으로 한다. <개정 2014. 1. 1., 2016. 12. 20., 2017. 12. 19., 2020. 12. 29., 2022. 12. 31.>\\n\\n| 종합소득 과세표준          | 세율                                         |\\n\\n|-------------------|--------------------------------------------|\\n\\n| 1,400만원 이하     | 과세표준의 6퍼센트                             |\\n\\n| 1,400만원 초과     5,000만원 이하     | 84만원 + (1,400만원을 초과하는 금액의 15퍼센트)  |\\n\\n| 5,000만원 초과   8,800만원 이하     | 624만원 + (5,000만원을 초과하는 금액의 24퍼센트) |\\n\\n| 8,800만원 초과 1억5천만원 이하    | 3,706만원 + (8,800만원을 초과하는 금액의 35퍼센트)|\\n\\n| 1억5천만원 초과 3억원 이하         | 3,706만원 + (1억5천만원을 초과하는 금액의 38퍼센트)|\\n\\n| 3억원 초과    5억원 이하         | 9,406만원 + (3억원을 초과하는 금액의 38퍼센트)   |\\n\\n| 5억원 초과      10억원 이하        | 1억 7,406만원 + (5억원을 초과하는 금액의 42퍼센트)|\\n\\n| 10억원 초과        | 3억 8,406만원 + (10억원을 초과하는 금액의 45퍼센트)|\\n\\n\\n\\n\\n\\n② 거주자의 퇴직소득에 대한 소득세는 다음 각 호의 순서에 따라 계산한 금액(이하 “퇴직소득 산출세액”이라 한다)으로 한다.<개정 2013. 1. 1., 2014. 12. 23.>\\n\\n1. 해당 과세기간의 퇴직소득과세표준에 제1항의 세율을 적용하여 계산한 금액'),\n",
       " Document(id='cfc766df-0c1c-4dbe-8034-613e33b504f8', metadata={'source': './tax_with_markdown.docx'}, page_content='⑧ 재해손실세액공제에 관하여 필요한 사항은 대통령령으로 정한다.\\n\\n[전문개정 2009. 12. 31.]\\n\\n[시행일: 2025. 1. 1.]  제58조제2항\\n\\n\\n\\n제59조(근로소득세액공제) ①근로소득이 있는 거주자에 대해서는 그 근로소득에 대한 종합소득산출세액에서 다음의 금액을 공제한다. <개정 2014. 1. 1., 2015. 5. 13.>\\n\\n\\n\\n② 제1항에도 불구하고 공제세액이 다음 각 호의 구분에 따른 금액을 초과하는 경우에 그 초과하는 금액은 없는 것으로 한다.<신설 2014. 1. 1., 2015. 5. 13., 2022. 12. 31.>\\n\\n1. 총급여액이 3천 300만원 이하인 경우: 74만원\\n\\n2. 총급여액이 3천 300만원 초과 7천만원 이하인 경우: 74만원 - [(총급여액 - 3천 300만원) × 8/1000]. 다만, 위 금액이 66만원보다 적은 경우에는 66만원으로 한다.\\n\\n3. 총급여액이 7천만원 초과 1억2천만원 이하인 경우: 66만원 - [(총급여액 - 7천만원) × 1/2]. 다만, 위 금액이 50만원보다 적은 경우에는 50만원으로 한다.\\n\\n4. 총급여액이 1억2천만원을 초과하는 경우: 50만원 - [(총급여액 - 1억2천만원) × 1/2]. 다만, 위 금액이 20만원보다 적은 경우에는 20만원으로 한다.\\n\\n③ 일용근로자의 근로소득에 대해서 제134조제3항에 따른 원천징수를 하는 경우에는 해당 근로소득에 대한 산출세액의 100분의 55에 해당하는 금액을 그 산출세액에서 공제한다.<개정 2014. 1. 1.>\\n\\n[전문개정 2012. 1. 1.]'),\n",
       " Document(id='4f394183-4234-476a-abcd-b219238b2a31', metadata={'source': './tax_with_markdown.docx'}, page_content='1. 다음 각 목의 세액을 더한 금액\\n\\n가. 이자소득등의 금액 중 종합과세기준금액을 초과하는 금액과 이자소득등을 제외한 다른 종합소득금액을 더한 금액에 대한 산출세액\\n\\n나. 종합과세기준금액에 제129조제1항제1호라목의 세율을 적용하여 계산한 세액\\n\\n2. 다음 각 목의 세액을 더한 금액\\n\\n가. 이자소득등에 대하여 제129조제1항제1호 및 제2호의 세율을 적용하여 계산한 세액. 다만, 다음의 어느 하나에 해당하는 소득에 대해서는 그 구분에 따른 세율을 적용한다.\\n\\n\\u3000\\u3000\\u30001) 삭제 <2018.12.31>\\n\\n\\u3000\\u3000\\u30002) 제127조에 따라 원천징수되지 아니하는 이자소득등 중 제16조제1항제11호의 소득: 제129조제1항제1호나목의 세율\\n\\n\\u3000\\u3000\\u30003) 제127조에 따라 원천징수되지 아니하는 이자소득등 중 제16조제1항제11호의 소득을 제외한 이자소득등: 제129조제1항제1호라목의 세율\\n\\n나. 이자소득등을 제외한 다른 종합소득금액에 대한 산출세액. 다만, 그 세액이 제17조제1항제8호에 따른 배당소득에 대하여 제129조제1항제1호라목의 세율을 적용하여 계산한 세액과 이자소득등 및 제17조제1항제8호에 따른 배당소득을 제외한 다른 종합소득금액에 대한 산출세액을 합산한 금액(이하 이 목에서 “종합소득 비교세액”이라 한다)에 미달하는 경우 종합소득 비교세액으로 한다.\\n\\n[전문개정 2009. 12. 31.]\\n\\n\\n\\n제63조(직장공제회 초과반환금에 대한 세액 계산의 특례) ①제16조제1항제10호에 따른 직장공제회 초과반환금(이하 이 조에서 “직장공제회 초과반환금”이라 한다)에 대해서는 그 금액에서 다음 각 호의 금액을 순서대로 공제한 금액을 납입연수(1년 미만인 경우에는 1년으로 한다. 이하 같다)로 나눈 금액에 기본세율을 적용하여 계산한 세액에 납입연수를 곱한 금액을 그 산출세액으로 한다. <개정 2010. 12. 27., 2014. 12. 23.>\\n\\n1. 직장공제회 초과반환금의 100분의 40에 해당하는 금액\\n\\n2. 납입연수에 따라 정한 다음의 금액'),\n",
       " Document(id='2352516d-d58c-4a49-84c3-27a67b3a6894', metadata={'source': './tax_with_markdown.docx'}, page_content='③ 제1항과 제2항에 따른 공제를 “퇴직소득공제”라 한다.\\n\\n④ 퇴직소득공제의 계산 방법에 관하여 필요한 사항은 대통령령으로 정한다.<개정 2013. 1. 1.>\\n\\n⑤ 삭제<2013. 1. 1.>\\n\\n[전문개정 2009. 12. 31.]\\n\\n\\n\\n제49조 삭제 <2006. 12. 30.>\\n\\n\\n\\n제6관 종합소득공제 <개정 2009. 12. 31.>\\n\\n\\n\\n제50조(기본공제) ① 종합소득이 있는 거주자(자연인만 해당한다)에 대해서는 다음 각 호의 어느 하나에 해당하는 사람의 수에 1명당 연 150만원을 곱하여 계산한 금액을 그 거주자의 해당 과세기간의 종합소득금액에서 공제한다. <개정 2015. 12. 15.>\\n\\n1. 해당 거주자\\n\\n2. 거주자의 배우자로서 해당 과세기간의 소득금액이 없거나 해당 과세기간의 소득금액 합계액이 100만원 이하인 사람(총급여액 500만원 이하의 근로소득만 있는 배우자를 포함한다)\\n\\n3. 거주자(그 배우자를 포함한다. 이하 이 호에서 같다)와 생계를 같이 하는 다음 각 목의 어느 하나에 해당하는 부양가족(제51조제1항제2호의 장애인에 해당되는 경우에는 나이의 제한을 받지 아니한다)으로서 해당 과세기간의 소득금액 합계액이 100만원 이하인 사람(총급여액 500만원 이하의 근로소득만 있는 부양가족을 포함한다)\\n\\n가. 거주자의 직계존속(직계존속이 재혼한 경우에는 그 배우자로서 대통령령으로 정하는 사람을 포함한다)으로서 60세 이상인 사람\\n\\n나. 거주자의 직계비속으로서 대통령령으로 정하는 사람과 대통령령으로 정하는 동거 입양자(이하 “입양자”라 한다)로서 20세 이하인 사람. 이 경우 해당 직계비속 또는 입양자와 그 배우자가 모두 제51조제1항제2호에 따른 장애인에 해당하는 경우에는 그 배우자를 포함한다.\\n\\n다. 거주자의 형제자매로서 20세 이하 또는 60세 이상인 사람\\n\\n라. 「국민기초생활 보장법」에 따른 수급권자 중 대통령령으로 정하는 사람')]"
      ]
     },
     "execution_count": 114,
     "metadata": {},
     "output_type": "execute_result"
    }
   ],
   "source": [
    "retriever = database.as_retriever(search_kwargs={\"k\": 4})\n",
    "retriever.invoke(query)"
   ]
  },
  {
   "cell_type": "markdown",
   "metadata": {},
   "source": [
    "# 5. 답변 생성\n",
    "\n",
    "- [RetrievalQA](https://docs.smith.langchain.com/old/cookbook/hub-examples/retrieval-qa-chain)를 통해 LLM에 전달\n",
    "    - `RetrievalQA`는 [create_retrieval_chain](https://python.langchain.com/v0.2/docs/how_to/qa_sources/#using-create_retrieval_chain)으로 대체됨\n",
    "    - 실제 ChatBot 구현 시 `create_retrieval_chain`으로 변경하는 과정을 볼 수 있음"
   ]
  },
  {
   "cell_type": "code",
   "execution_count": 115,
   "metadata": {},
   "outputs": [],
   "source": [
    "from langchain.chains import RetrievalQA\n",
    "\n",
    "qa_chain = RetrievalQA.from_chain_type(\n",
    "    llm,\n",
    "    retriever=database.as_retriever(),\n",
    "    chain_type_kwargs={\"prompt\": prompt}\n",
    ")"
   ]
  },
  {
   "cell_type": "code",
   "execution_count": 116,
   "metadata": {},
   "outputs": [],
   "source": [
    "#query -> 직장인 -> 거주자로 바꾸는 체인\n",
    "ai_message = qa_chain({\"query\": query})"
   ]
  },
  {
   "cell_type": "code",
   "execution_count": 117,
   "metadata": {},
   "outputs": [],
   "source": [
    "# 강의에서는 위처럼 진행하지만 업데이트된 LangChain 문법은 `.invoke()` 활용을 권장\n",
    "ai_message = qa_chain.invoke({\"query\": query})"
   ]
  },
  {
   "cell_type": "code",
   "execution_count": 118,
   "metadata": {},
   "outputs": [
    {
     "data": {
      "text/plain": [
       "{'query': '연봉 5천만원인 직장인의 종합소득세는 얼마인가요?',\n",
       " 'result': '연봉 5천만원인 직장인의 종합소득세는 526만원입니다. 이는 과세표준 5,000만원에 해당하는 세율 24%를 적용한 세액에서 근로소득세액공제를 차감하여 계산한 금액입니다.'}"
      ]
     },
     "execution_count": 118,
     "metadata": {},
     "output_type": "execute_result"
    }
   ],
   "source": [
    "ai_message"
   ]
  },
  {
   "cell_type": "code",
   "execution_count": 153,
   "metadata": {},
   "outputs": [],
   "source": [
    "from langchain_core.output_parsers import StrOutputParser\n",
    "from langchain_core.prompts import ChatPromptTemplate\n",
    "\n",
    "dictionary = [\"사람을 나타내는 표현 -> 거주자\"]\n",
    "\n",
    "prompt = ChatPromptTemplate.from_template(f\"\"\"\n",
    "    사용자의 질문을 보고, 우리의 사전을 참고해서 사용자의 질문을 변경해주세요.\n",
    "    만약 변경할 필요가 없다고 판단된다면, 사용자의 질문을 변경하지 않아도 됩니다.\n",
    "    그런 경우에는 질문만 반환해주세요.\n",
    "    사전: {dictionary}\n",
    "\n",
    "    질문: {{question}}\n",
    "\"\"\")\n",
    "\n",
    "dictionary_chain = prompt | llm | StrOutputParser()"
   ]
  },
  {
   "cell_type": "code",
   "execution_count": 146,
   "metadata": {},
   "outputs": [
    {
     "data": {
      "text/plain": [
       "ChatPromptTemplate(input_variables=['question'], input_types={}, partial_variables={}, messages=[HumanMessagePromptTemplate(prompt=PromptTemplate(input_variables=['question'], input_types={}, partial_variables={}, template=\"\\n    사용자의 질문을 보고, 우리의 ['사람을 나타내는 표현 -> 거주자']을(를) 참고해서 사용자의 질문을 변경해주세요.\\n    만약 변경할 필요가 없다고 판단된다면, 사용자의 질문을 변경하지 않아도 됩니다.\\n    그런 경우에는 질문만 리턴해주세요.\\n    연봉이 5천만원인 경우 624만원입니다.\\n    사전: ['사람을 나타내는 표현 -> 거주자']\\n\\n    질문: {question}\\n\"), additional_kwargs={})])\n",
       "| ChatUpstage(client=<openai.resources.chat.completions.completions.Completions object at 0x00000259DCF2D460>, async_client=<openai.resources.chat.completions.completions.AsyncCompletions object at 0x00000259DCE8F920>, model_kwargs={}, upstage_api_key=SecretStr('**********'), upstage_api_base='https://api.upstage.ai/v1/solar')\n",
       "| StrOutputParser()"
      ]
     },
     "execution_count": 146,
     "metadata": {},
     "output_type": "execute_result"
    }
   ],
   "source": [
    "dictionary_chain"
   ]
  },
  {
   "cell_type": "code",
   "execution_count": 154,
   "metadata": {},
   "outputs": [],
   "source": [
    "new_question = dictionary_chain.invoke({\"question\": query})"
   ]
  },
  {
   "cell_type": "code",
   "execution_count": 136,
   "metadata": {},
   "outputs": [
    {
     "data": {
      "text/plain": [
       "'질문: 거주자의 연봉이 5천만원인 경우, 종합소득세는 얼마인가요?'"
      ]
     },
     "execution_count": 136,
     "metadata": {},
     "output_type": "execute_result"
    }
   ],
   "source": [
    "new_question"
   ]
  },
  {
   "cell_type": "code",
   "execution_count": 155,
   "metadata": {},
   "outputs": [],
   "source": [
    "# qa_chain.invoke()는 {\"question\": query}를 받음\n",
    "# d\n",
    "tax_chain = {\"query\": dictionary_chain} | qa_chain # dictionary_chain의 결과를 qa_chain에 넘겨줌"
   ]
  },
  {
   "cell_type": "code",
   "execution_count": 156,
   "metadata": {},
   "outputs": [],
   "source": [
    "# tax_chain은 dictionary_chain이 먼저 돌아야함\n",
    "# dictionary_chain은 {\"question\": query} 를 받기때문에 아래처럼 넣어줌\n",
    "ai_response = tax_chain.invoke({\"question\": query})"
   ]
  },
  {
   "cell_type": "code",
   "execution_count": 157,
   "metadata": {},
   "outputs": [
    {
     "data": {
      "text/plain": [
       "{'query': '질문: 연봉 5천만원인 거주자의 종합소득세는 얼마인가요?',\n",
       " 'result': '연봉 5천만원인 거주자의 종합소득세는 550만원입니다. 이는 과세표준 5천만원에 해당하는 세율 24%를 적용하고, 누진공제 624만원을 차감한 금액입니다.'}"
      ]
     },
     "execution_count": 157,
     "metadata": {},
     "output_type": "execute_result"
    }
   ],
   "source": [
    "ai_response"
   ]
  },
  {
   "cell_type": "code",
   "execution_count": null,
   "metadata": {},
   "outputs": [],
   "source": []
  }
 ],
 "metadata": {
  "kernelspec": {
   "display_name": ".venv",
   "language": "python",
   "name": "python3"
  },
  "language_info": {
   "codemirror_mode": {
    "name": "ipython",
    "version": 3
   },
   "file_extension": ".py",
   "mimetype": "text/x-python",
   "name": "python",
   "nbconvert_exporter": "python",
   "pygments_lexer": "ipython3",
   "version": "3.12.8"
  }
 },
 "nbformat": 4,
 "nbformat_minor": 2
}
