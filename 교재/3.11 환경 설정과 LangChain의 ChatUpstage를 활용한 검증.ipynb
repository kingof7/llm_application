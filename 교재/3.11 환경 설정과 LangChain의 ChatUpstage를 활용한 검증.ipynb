{
 "cells": [
  {
   "cell_type": "markdown",
   "metadata": {},
   "source": [
    "# 1. 패키지 설치"
   ]
  },
  {
   "cell_type": "code",
   "execution_count": 1,
   "metadata": {},
   "outputs": [
    {
     "name": "stdout",
     "output_type": "stream",
     "text": [
      "Note: you may need to restart the kernel to use updated packages.\n"
     ]
    }
   ],
   "source": [
    "%pip install -q python-dotenv langchain-upstage"
   ]
  },
  {
   "cell_type": "markdown",
   "metadata": {},
   "source": [
    "# 2. 환경변수 불러오기\n",
    "\n",
    "- `.env` 파일에 `OPENAI_API_KEY` 등록"
   ]
  },
  {
   "cell_type": "code",
   "execution_count": 2,
   "metadata": {},
   "outputs": [
    {
     "data": {
      "text/plain": [
       "True"
      ]
     },
     "execution_count": 2,
     "metadata": {},
     "output_type": "execute_result"
    }
   ],
   "source": [
    "from dotenv import load_dotenv\n",
    "\n",
    "load_dotenv()"
   ]
  },
  {
   "cell_type": "markdown",
   "metadata": {},
   "source": [
    "# 3. LLM 답변 생성\n",
    "\n",
    "- OpenAI 대시보드에서 발급받은 API Key를 `OPENAI_API_KEY`라고 저장하면 별도의 설정 없이 `ChatOpenAI`를 사용할 수 있음"
   ]
  },
  {
   "cell_type": "code",
   "execution_count": 5,
   "metadata": {},
   "outputs": [],
   "source": [
    "from langchain_upstage import ChatUpstage\n",
    "\n",
    "llm = ChatUpstage()\n",
    "ai_message = llm.invoke(\"인프런에 어떤 강의가 있나요?\")"
   ]
  },
  {
   "cell_type": "code",
   "execution_count": 6,
   "metadata": {},
   "outputs": [],
   "source": [
    "ai_message = llm.invoke(\"인프런에 어떤 강의가 있나요?\")"
   ]
  },
  {
   "cell_type": "code",
   "execution_count": 6,
   "metadata": {},
   "outputs": [
    {
     "data": {
      "text/plain": [
       "'인프런은 다양한 분야의 온라인 강의를 제공하는 플랫폼입니다. 주요 카테고리는 다음과 같습니다:\\n\\n1. **프로그래밍**: 웹 개발, 모바일 개발, 데이터 과학, 인공지능, 클라우드 컴퓨팅 등 다양한 프로그래밍 관련 강의가 있습니다.\\n\\n2. **디자인**: UI/UX 디자인, 그래픽 디자인, 웹 디자인 등 디자인 관련 강의가 있습니다.\\n\\n3. **비즈니스**: 마케팅, 창업, 경영, 재무 등 비즈니스 관련 강의가 있습니다.\\n\\n4. **인문학**: 심리학, 철학, 역사 등 인문학 관련 강의가 있습니다.\\n\\n5. **생활**: 요리, 운동, 여행 등 생활 관련 강의가 있습니다.\\n\\n6. **기타**: 사진, 음악, 미술 등 다양한 분야의 강의가 있습니다.\\n\\n인프런에서는 실무자들이 직접 강의를 진행하며, 실습 중심의 강의가 많아 실제 업무에 적용할 수 있는 지식을 습득할 수 있습니다. 관심 있는 분야의 강의를 검색하거나 추천 강의를 통해 새로운 지식을 얻을 수 있습니다.'"
      ]
     },
     "execution_count": 6,
     "metadata": {},
     "output_type": "execute_result"
    }
   ],
   "source": [
    "ai_message.content"
   ]
  },
  {
   "cell_type": "code",
   "execution_count": null,
   "metadata": {},
   "outputs": [],
   "source": []
  }
 ],
 "metadata": {
  "kernelspec": {
   "display_name": ".venv",
   "language": "python",
   "name": "python3"
  },
  "language_info": {
   "codemirror_mode": {
    "name": "ipython",
    "version": 3
   },
   "file_extension": ".py",
   "mimetype": "text/x-python",
   "name": "python",
   "nbconvert_exporter": "python",
   "pygments_lexer": "ipython3",
   "version": "3.12.8"
  }
 },
 "nbformat": 4,
 "nbformat_minor": 2
}
